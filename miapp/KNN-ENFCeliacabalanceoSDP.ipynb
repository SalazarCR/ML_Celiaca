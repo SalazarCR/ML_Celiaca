{
 "cells": [
  {
   "cell_type": "code",
   "execution_count": 12,
   "id": "aae0a17e-d11a-4c5c-b340-5fc0f8826130",
   "metadata": {},
   "outputs": [
    {
     "ename": "FileNotFoundError",
     "evalue": "[Errno 2] No such file or directory: 'ENFCeliacaSinDatosPerdidos.csv'",
     "output_type": "error",
     "traceback": [
      "\u001b[1;31m---------------------------------------------------------------------------\u001b[0m",
      "\u001b[1;31mFileNotFoundError\u001b[0m                         Traceback (most recent call last)",
      "Cell \u001b[1;32mIn[12], line 18\u001b[0m\n\u001b[0;32m     14\u001b[0m \u001b[38;5;28;01mimport\u001b[39;00m \u001b[38;5;21;01mjoblib\u001b[39;00m  \u001b[38;5;66;03m# Para guardar y cargar el modelo\u001b[39;00m\n\u001b[0;32m     15\u001b[0m \u001b[38;5;66;03m# ============================================\u001b[39;00m\n\u001b[0;32m     16\u001b[0m \u001b[38;5;66;03m# CARGA DEL DATASET ORIGINAL NO BALANCEADO\u001b[39;00m\n\u001b[0;32m     17\u001b[0m \u001b[38;5;66;03m# ============================================\u001b[39;00m\n\u001b[1;32m---> 18\u001b[0m dataframe \u001b[38;5;241m=\u001b[39m pd\u001b[38;5;241m.\u001b[39mread_csv(\u001b[38;5;124m'\u001b[39m\u001b[38;5;124mENFCeliacaSinDatosPerdidos.csv\u001b[39m\u001b[38;5;124m'\u001b[39m, sep\u001b[38;5;241m=\u001b[39m\u001b[38;5;124m'\u001b[39m\u001b[38;5;124m;\u001b[39m\u001b[38;5;124m'\u001b[39m)\n\u001b[0;32m     19\u001b[0m clasificadores \u001b[38;5;241m=\u001b[39m [\u001b[38;5;124m'\u001b[39m\u001b[38;5;124mPositivo\u001b[39m\u001b[38;5;124m'\u001b[39m, \u001b[38;5;124m'\u001b[39m\u001b[38;5;124mNegativo\u001b[39m\u001b[38;5;124m'\u001b[39m]\n",
      "File \u001b[1;32m~\\anaconda3\\Lib\\site-packages\\pandas\\io\\parsers\\readers.py:1026\u001b[0m, in \u001b[0;36mread_csv\u001b[1;34m(filepath_or_buffer, sep, delimiter, header, names, index_col, usecols, dtype, engine, converters, true_values, false_values, skipinitialspace, skiprows, skipfooter, nrows, na_values, keep_default_na, na_filter, verbose, skip_blank_lines, parse_dates, infer_datetime_format, keep_date_col, date_parser, date_format, dayfirst, cache_dates, iterator, chunksize, compression, thousands, decimal, lineterminator, quotechar, quoting, doublequote, escapechar, comment, encoding, encoding_errors, dialect, on_bad_lines, delim_whitespace, low_memory, memory_map, float_precision, storage_options, dtype_backend)\u001b[0m\n\u001b[0;32m   1013\u001b[0m kwds_defaults \u001b[38;5;241m=\u001b[39m _refine_defaults_read(\n\u001b[0;32m   1014\u001b[0m     dialect,\n\u001b[0;32m   1015\u001b[0m     delimiter,\n\u001b[1;32m   (...)\u001b[0m\n\u001b[0;32m   1022\u001b[0m     dtype_backend\u001b[38;5;241m=\u001b[39mdtype_backend,\n\u001b[0;32m   1023\u001b[0m )\n\u001b[0;32m   1024\u001b[0m kwds\u001b[38;5;241m.\u001b[39mupdate(kwds_defaults)\n\u001b[1;32m-> 1026\u001b[0m \u001b[38;5;28;01mreturn\u001b[39;00m _read(filepath_or_buffer, kwds)\n",
      "File \u001b[1;32m~\\anaconda3\\Lib\\site-packages\\pandas\\io\\parsers\\readers.py:620\u001b[0m, in \u001b[0;36m_read\u001b[1;34m(filepath_or_buffer, kwds)\u001b[0m\n\u001b[0;32m    617\u001b[0m _validate_names(kwds\u001b[38;5;241m.\u001b[39mget(\u001b[38;5;124m\"\u001b[39m\u001b[38;5;124mnames\u001b[39m\u001b[38;5;124m\"\u001b[39m, \u001b[38;5;28;01mNone\u001b[39;00m))\n\u001b[0;32m    619\u001b[0m \u001b[38;5;66;03m# Create the parser.\u001b[39;00m\n\u001b[1;32m--> 620\u001b[0m parser \u001b[38;5;241m=\u001b[39m TextFileReader(filepath_or_buffer, \u001b[38;5;241m*\u001b[39m\u001b[38;5;241m*\u001b[39mkwds)\n\u001b[0;32m    622\u001b[0m \u001b[38;5;28;01mif\u001b[39;00m chunksize \u001b[38;5;129;01mor\u001b[39;00m iterator:\n\u001b[0;32m    623\u001b[0m     \u001b[38;5;28;01mreturn\u001b[39;00m parser\n",
      "File \u001b[1;32m~\\anaconda3\\Lib\\site-packages\\pandas\\io\\parsers\\readers.py:1620\u001b[0m, in \u001b[0;36mTextFileReader.__init__\u001b[1;34m(self, f, engine, **kwds)\u001b[0m\n\u001b[0;32m   1617\u001b[0m     \u001b[38;5;28mself\u001b[39m\u001b[38;5;241m.\u001b[39moptions[\u001b[38;5;124m\"\u001b[39m\u001b[38;5;124mhas_index_names\u001b[39m\u001b[38;5;124m\"\u001b[39m] \u001b[38;5;241m=\u001b[39m kwds[\u001b[38;5;124m\"\u001b[39m\u001b[38;5;124mhas_index_names\u001b[39m\u001b[38;5;124m\"\u001b[39m]\n\u001b[0;32m   1619\u001b[0m \u001b[38;5;28mself\u001b[39m\u001b[38;5;241m.\u001b[39mhandles: IOHandles \u001b[38;5;241m|\u001b[39m \u001b[38;5;28;01mNone\u001b[39;00m \u001b[38;5;241m=\u001b[39m \u001b[38;5;28;01mNone\u001b[39;00m\n\u001b[1;32m-> 1620\u001b[0m \u001b[38;5;28mself\u001b[39m\u001b[38;5;241m.\u001b[39m_engine \u001b[38;5;241m=\u001b[39m \u001b[38;5;28mself\u001b[39m\u001b[38;5;241m.\u001b[39m_make_engine(f, \u001b[38;5;28mself\u001b[39m\u001b[38;5;241m.\u001b[39mengine)\n",
      "File \u001b[1;32m~\\anaconda3\\Lib\\site-packages\\pandas\\io\\parsers\\readers.py:1880\u001b[0m, in \u001b[0;36mTextFileReader._make_engine\u001b[1;34m(self, f, engine)\u001b[0m\n\u001b[0;32m   1878\u001b[0m     \u001b[38;5;28;01mif\u001b[39;00m \u001b[38;5;124m\"\u001b[39m\u001b[38;5;124mb\u001b[39m\u001b[38;5;124m\"\u001b[39m \u001b[38;5;129;01mnot\u001b[39;00m \u001b[38;5;129;01min\u001b[39;00m mode:\n\u001b[0;32m   1879\u001b[0m         mode \u001b[38;5;241m+\u001b[39m\u001b[38;5;241m=\u001b[39m \u001b[38;5;124m\"\u001b[39m\u001b[38;5;124mb\u001b[39m\u001b[38;5;124m\"\u001b[39m\n\u001b[1;32m-> 1880\u001b[0m \u001b[38;5;28mself\u001b[39m\u001b[38;5;241m.\u001b[39mhandles \u001b[38;5;241m=\u001b[39m get_handle(\n\u001b[0;32m   1881\u001b[0m     f,\n\u001b[0;32m   1882\u001b[0m     mode,\n\u001b[0;32m   1883\u001b[0m     encoding\u001b[38;5;241m=\u001b[39m\u001b[38;5;28mself\u001b[39m\u001b[38;5;241m.\u001b[39moptions\u001b[38;5;241m.\u001b[39mget(\u001b[38;5;124m\"\u001b[39m\u001b[38;5;124mencoding\u001b[39m\u001b[38;5;124m\"\u001b[39m, \u001b[38;5;28;01mNone\u001b[39;00m),\n\u001b[0;32m   1884\u001b[0m     compression\u001b[38;5;241m=\u001b[39m\u001b[38;5;28mself\u001b[39m\u001b[38;5;241m.\u001b[39moptions\u001b[38;5;241m.\u001b[39mget(\u001b[38;5;124m\"\u001b[39m\u001b[38;5;124mcompression\u001b[39m\u001b[38;5;124m\"\u001b[39m, \u001b[38;5;28;01mNone\u001b[39;00m),\n\u001b[0;32m   1885\u001b[0m     memory_map\u001b[38;5;241m=\u001b[39m\u001b[38;5;28mself\u001b[39m\u001b[38;5;241m.\u001b[39moptions\u001b[38;5;241m.\u001b[39mget(\u001b[38;5;124m\"\u001b[39m\u001b[38;5;124mmemory_map\u001b[39m\u001b[38;5;124m\"\u001b[39m, \u001b[38;5;28;01mFalse\u001b[39;00m),\n\u001b[0;32m   1886\u001b[0m     is_text\u001b[38;5;241m=\u001b[39mis_text,\n\u001b[0;32m   1887\u001b[0m     errors\u001b[38;5;241m=\u001b[39m\u001b[38;5;28mself\u001b[39m\u001b[38;5;241m.\u001b[39moptions\u001b[38;5;241m.\u001b[39mget(\u001b[38;5;124m\"\u001b[39m\u001b[38;5;124mencoding_errors\u001b[39m\u001b[38;5;124m\"\u001b[39m, \u001b[38;5;124m\"\u001b[39m\u001b[38;5;124mstrict\u001b[39m\u001b[38;5;124m\"\u001b[39m),\n\u001b[0;32m   1888\u001b[0m     storage_options\u001b[38;5;241m=\u001b[39m\u001b[38;5;28mself\u001b[39m\u001b[38;5;241m.\u001b[39moptions\u001b[38;5;241m.\u001b[39mget(\u001b[38;5;124m\"\u001b[39m\u001b[38;5;124mstorage_options\u001b[39m\u001b[38;5;124m\"\u001b[39m, \u001b[38;5;28;01mNone\u001b[39;00m),\n\u001b[0;32m   1889\u001b[0m )\n\u001b[0;32m   1890\u001b[0m \u001b[38;5;28;01massert\u001b[39;00m \u001b[38;5;28mself\u001b[39m\u001b[38;5;241m.\u001b[39mhandles \u001b[38;5;129;01mis\u001b[39;00m \u001b[38;5;129;01mnot\u001b[39;00m \u001b[38;5;28;01mNone\u001b[39;00m\n\u001b[0;32m   1891\u001b[0m f \u001b[38;5;241m=\u001b[39m \u001b[38;5;28mself\u001b[39m\u001b[38;5;241m.\u001b[39mhandles\u001b[38;5;241m.\u001b[39mhandle\n",
      "File \u001b[1;32m~\\anaconda3\\Lib\\site-packages\\pandas\\io\\common.py:873\u001b[0m, in \u001b[0;36mget_handle\u001b[1;34m(path_or_buf, mode, encoding, compression, memory_map, is_text, errors, storage_options)\u001b[0m\n\u001b[0;32m    868\u001b[0m \u001b[38;5;28;01melif\u001b[39;00m \u001b[38;5;28misinstance\u001b[39m(handle, \u001b[38;5;28mstr\u001b[39m):\n\u001b[0;32m    869\u001b[0m     \u001b[38;5;66;03m# Check whether the filename is to be opened in binary mode.\u001b[39;00m\n\u001b[0;32m    870\u001b[0m     \u001b[38;5;66;03m# Binary mode does not support 'encoding' and 'newline'.\u001b[39;00m\n\u001b[0;32m    871\u001b[0m     \u001b[38;5;28;01mif\u001b[39;00m ioargs\u001b[38;5;241m.\u001b[39mencoding \u001b[38;5;129;01mand\u001b[39;00m \u001b[38;5;124m\"\u001b[39m\u001b[38;5;124mb\u001b[39m\u001b[38;5;124m\"\u001b[39m \u001b[38;5;129;01mnot\u001b[39;00m \u001b[38;5;129;01min\u001b[39;00m ioargs\u001b[38;5;241m.\u001b[39mmode:\n\u001b[0;32m    872\u001b[0m         \u001b[38;5;66;03m# Encoding\u001b[39;00m\n\u001b[1;32m--> 873\u001b[0m         handle \u001b[38;5;241m=\u001b[39m \u001b[38;5;28mopen\u001b[39m(\n\u001b[0;32m    874\u001b[0m             handle,\n\u001b[0;32m    875\u001b[0m             ioargs\u001b[38;5;241m.\u001b[39mmode,\n\u001b[0;32m    876\u001b[0m             encoding\u001b[38;5;241m=\u001b[39mioargs\u001b[38;5;241m.\u001b[39mencoding,\n\u001b[0;32m    877\u001b[0m             errors\u001b[38;5;241m=\u001b[39merrors,\n\u001b[0;32m    878\u001b[0m             newline\u001b[38;5;241m=\u001b[39m\u001b[38;5;124m\"\u001b[39m\u001b[38;5;124m\"\u001b[39m,\n\u001b[0;32m    879\u001b[0m         )\n\u001b[0;32m    880\u001b[0m     \u001b[38;5;28;01melse\u001b[39;00m:\n\u001b[0;32m    881\u001b[0m         \u001b[38;5;66;03m# Binary mode\u001b[39;00m\n\u001b[0;32m    882\u001b[0m         handle \u001b[38;5;241m=\u001b[39m \u001b[38;5;28mopen\u001b[39m(handle, ioargs\u001b[38;5;241m.\u001b[39mmode)\n",
      "\u001b[1;31mFileNotFoundError\u001b[0m: [Errno 2] No such file or directory: 'ENFCeliacaSinDatosPerdidos.csv'"
     ]
    }
   ],
   "source": [
    "# ============================================\n",
    "# IMPORTACIÓN DE LIBRERÍAS NECESARIAS\n",
    "# ============================================\n",
    "import pandas as pd\n",
    "import numpy as np\n",
    "import matplotlib.pyplot as plt\n",
    "import seaborn as sb\n",
    "\n",
    "from sklearn.model_selection import train_test_split\n",
    "from sklearn.neighbors import KNeighborsClassifier\n",
    "from sklearn.metrics import classification_report, confusion_matrix\n",
    "\n",
    "from imblearn.over_sampling import SMOTE\n",
    "import joblib  # Para guardar y cargar el modelo\n",
    "# ============================================\n",
    "# CARGA DEL DATASET ORIGINAL NO BALANCEADO\n",
    "# ============================================\n",
    "dataframe = pd.read_csv('ENFCeliacaSinDatosPerdidos.csv', sep=';')\n",
    "clasificadores = ['Positivo', 'Negativo']  # 1 = Positivo, 0 = Negativo"
   ]
  },
  {
   "cell_type": "code",
   "execution_count": null,
   "id": "a4ce6e42-a95c-446b-8899-5dfecc4305a1",
   "metadata": {},
   "outputs": [],
   "source": [
    "dataframe.head(10)"
   ]
  },
  {
   "cell_type": "code",
   "execution_count": null,
   "id": "4eb283bf-514e-40b0-be18-5d043d388620",
   "metadata": {},
   "outputs": [],
   "source": [
    "dataframe.head(10)"
   ]
  },
  {
   "cell_type": "code",
   "execution_count": null,
   "id": "2d438911-d591-4b5f-9286-6962f9851c56",
   "metadata": {},
   "outputs": [],
   "source": [
    "dataframe.describe()"
   ]
  },
  {
   "cell_type": "code",
   "execution_count": null,
   "id": "0bb708a7-1335-43d3-812a-3462e7376eab",
   "metadata": {},
   "outputs": [],
   "source": [
    "dataframe.groupby('DISEASE_DIAGOSE').size()"
   ]
  },
  {
   "cell_type": "code",
   "execution_count": null,
   "id": "50947d77-99cf-4ee5-9948-6c8fce14910c",
   "metadata": {},
   "outputs": [],
   "source": [
    "import seaborn as sb\n",
    "\n",
    "#Aseguramos que los numeros son enteros\n",
    "dataframe['DISEASE_DIAGOSE'] = dataframe['DISEASE_DIAGOSE'].astype(int)\n",
    "sb.catplot(x='DISEASE_DIAGOSE', hue='DISEASE_DIAGOSE', data=dataframe, kind=\"count\", height = 2.5, aspect=0.8, palette={0:\"blue\", 1:\"red\"}, legend = False)\n",
    "plt.title(\"Distribucion de Clases\")\n",
    "plt.show()"
   ]
  },
  {
   "cell_type": "code",
   "execution_count": null,
   "id": "3e5161a9-325e-4dc2-a19b-88fea30481e4",
   "metadata": {},
   "outputs": [],
   "source": [
    "# ============================================\n",
    "# 3. SEPARAR VARIABLES X E Y PARA SMOTE\n",
    "# ============================================\n",
    "y = dataframe['DISEASE_DIAGOSE']\n",
    "X = dataframe.drop('DISEASE_DIAGOSE', axis=1)\n",
    "\n",
    "print(\"Distribución antes del balanceo:\")\n",
    "print(y.value_counts())"
   ]
  },
  {
   "cell_type": "code",
   "execution_count": null,
   "id": "2a69062e-a2e8-482d-b04e-0bf10c256750",
   "metadata": {},
   "outputs": [],
   "source": [
    "# ============================================\n",
    "# 4. APLICAR SMOTE SOBRE TODO EL DATASET\n",
    "# ============================================\n",
    "smote = SMOTE(random_state=42)\n",
    "X_resampled, y_resampled = smote.fit_resample(X, y)\n",
    "\n",
    "print(\"Distribución después del balanceo:\")\n",
    "print(y_resampled.value_counts())"
   ]
  },
  {
   "cell_type": "code",
   "execution_count": null,
   "id": "d1338507-bdd7-4620-841b-4a8f287c5b8d",
   "metadata": {},
   "outputs": [],
   "source": [
    "# ============================================\n",
    "# 5. GUARDAR EL DATASET BALANCEADO EN CSV\n",
    "# ============================================\n",
    "df_resampled = pd.DataFrame(X_resampled, columns=X.columns)\n",
    "df_resampled['DISEASE_DIAGOSE'] = y_resampled\n",
    "df_resampled.to_csv('ENFCeliacaBalanceadoS.csv', index=False, sep=';')\n",
    "\n",
    "print(\"✅ Conjunto completo balanceado guardado como 'ENFCeliacaBalanceadoS.csv'\")"
   ]
  },
  {
   "cell_type": "code",
   "execution_count": null,
   "id": "4fc12a19-9689-4c40-b555-db280082a550",
   "metadata": {},
   "outputs": [],
   "source": [
    "# ============================================\n",
    "# 6. CARGA DEL DATASET BALANCEADO PARA USO\n",
    "# ============================================\n",
    "df_balanceado = pd.read_csv('ENFCeliacaBalanceadoS.csv', sep=';')\n",
    "\n",
    "# Separación de variables\n",
    "Xb = df_balanceado.drop('DISEASE_DIAGOSE', axis=1)\n",
    "yb = df_balanceado['DISEASE_DIAGOSE']"
   ]
  },
  {
   "cell_type": "code",
   "execution_count": null,
   "id": "29939631-bd14-487f-b87d-858fd95c2ac3",
   "metadata": {},
   "outputs": [],
   "source": [
    "df_balanceado.groupby('DISEASE_DIAGOSE').size()"
   ]
  },
  {
   "cell_type": "code",
   "execution_count": null,
   "id": "c72df562-84f8-4e6d-a245-bbecf4426b60",
   "metadata": {},
   "outputs": [],
   "source": [
    "import seaborn as sb\n",
    "import matplotlib.pyplot as plt\n",
    "\n",
    "# Asegurar que la columna es entera\n",
    "df_balanceado['DISEASE_DIAGOSE'] = df_balanceado['DISEASE_DIAGOSE'].astype(int)\n",
    "\n",
    "# Gráfico de distribución de clases con el dataset balanceado\n",
    "sb.catplot(\n",
    "    x='DISEASE_DIAGOSE',\n",
    "    hue='DISEASE_DIAGOSE',\n",
    "    data=df_balanceado,\n",
    "    kind=\"count\",\n",
    "    height=2.5,\n",
    "    aspect=0.8,\n",
    "    palette={0: \"blue\", 1: \"red\"},\n",
    "    legend=False\n",
    ")\n",
    "plt.title(\"Distribución de Clases (Balanceado)\")\n",
    "plt.show()"
   ]
  },
  {
   "cell_type": "code",
   "execution_count": null,
   "id": "0218c162-7f35-443e-b8a5-6f5356c239b5",
   "metadata": {},
   "outputs": [],
   "source": [
    "# División del dataset balanceado\n",
    "x_train, x_test, y_train, y_test = train_test_split(Xb, yb, test_size=0.3, random_state=30)\n",
    "\n",
    "# Entrenar el modelo\n",
    "knn_mm = KNeighborsClassifier(n_neighbors=6)\n",
    "knn_mm.fit(x_train, y_train)\n",
    "\n",
    "# Guardar el modelo entrenado\n",
    "joblib.dump(knn_mm, 'modelo_entrenado.pkl')\n",
    "print(\"✅ Modelo guardado como 'modelo_entrenado.pkl'\")\n",
    "\n",
    "# ============================================================\n",
    "# 8. CARGA DEL MODELO ENTRENADO\n",
    "# ============================================================\n",
    "modelo_cargado = joblib.load('modelo_entrenado.pkl')\n",
    "print(\"✅ Modelo cargado desde 'modelo_entrenado.pkl'\")\n",
    "\n",
    "# Predicciones\n",
    "predicciones = modelo_cargado.predict(x_test)\n",
    "# Matriz de Confusión\n",
    "tn, fp, fn, tp = confusion_matrix(y_test, predicciones).ravel()\n",
    "sb.heatmap(confusion_matrix(y_test, predicciones), annot=True, fmt=\"d\")\n",
    "plt.title('MATRIZ DE CONFUSIÓN')\n",
    "plt.xlabel('Predicción')\n",
    "plt.ylabel('Real')\n",
    "\n",
    "# Reporte de clasificación\n",
    "print(classification_report(y_test, predicciones, target_names=clasificadores))"
   ]
  },
  {
   "cell_type": "code",
   "execution_count": null,
   "id": "9ae5f040-728b-4c50-a01f-51f65a1b457a",
   "metadata": {},
   "outputs": [],
   "source": [
    "# ============================================================\n",
    "# 8. Tasa de error usando dataset balanceado\n",
    "# ============================================================\n",
    "tasa_error = []\n",
    "valores_k = range(1, 27)\n",
    "\n",
    "for i in valores_k:\n",
    "    knn_mm = KNeighborsClassifier(n_neighbors=i)\n",
    "    knn_mm.fit(x_train, y_train)\n",
    "    prediction_i = knn_mm.predict(x_test)\n",
    "    tasa_error.append(np.mean(prediction_i != y_test))\n",
    "\n",
    "# Mostrar la gráfica\n",
    "plt.plot(valores_k, tasa_error, color=\"green\", marker=\"o\", markerfacecolor=\"red\", markersize=8)\n",
    "plt.title(\"Tasa de error vs. número de vecinos (K)\")\n",
    "plt.xlabel(\"Número de vecinos (K)\")\n",
    "plt.ylabel(\"Tasa de error\")\n",
    "plt.grid(True)\n",
    "plt.show()\n",
    "\n",
    "# Mostrar la tabla con los valores exactos\n",
    "tabla_resultados = pd.DataFrame({\n",
    "    'K (número de vecinos)': list(valores_k),\n",
    "    'Tasa de error': tasa_error\n",
    "})\n",
    "\n",
    "display(tabla_resultados)"
   ]
  },
  {
   "cell_type": "code",
   "execution_count": null,
   "id": "3cf6ff9f-37a9-41c2-ae83-b97fca0baffd",
   "metadata": {},
   "outputs": [],
   "source": [
    "knn_mm = KNeighborsClassifier(n_neighbors=1)\n",
    "\n",
    "#Entrenar el algoritmo\n",
    "knn_mm.fit(x_train,y_train)\n",
    "\n",
    "predicciones = knn_mm.predict(x_test)\n",
    "\n",
    "sb.heatmap(confusion_matrix(y_test,predicciones), annot = True, fmt = \"d\")\n",
    "plt.title('MATRIZ DE CONFUSIÓN')\n",
    "plt.xlabel('Predicción')\n",
    "plt.ylabel('Real')\n",
    "\n",
    "print(classification_report(y_test,predicciones,target_names=clasificadores))"
   ]
  },
  {
   "cell_type": "code",
   "execution_count": null,
   "id": "22654698-106a-4325-b8e4-8efc4832d469",
   "metadata": {},
   "outputs": [],
   "source": [
    "labels = ['Si_tiene', 'No_tiene']\n",
    "matriz = confusion_matrix(y_test, predicciones, labels=[0, 1])\n",
    "print(pd.DataFrame(matriz, index=labels, columns=labels))\n",
    "\n",
    "print(classification_report(y_test, predicciones, target_names=clasificadores))"
   ]
  },
  {
   "cell_type": "code",
   "execution_count": null,
   "id": "64b6791f-407b-4e9e-80f8-8d4b3d437048",
   "metadata": {},
   "outputs": [],
   "source": [
    "knn_mm = KNeighborsClassifier(n_neighbors=2)\n",
    "\n",
    "#Entrenar el algoritmo\n",
    "knn_mm.fit(x_train,y_train)\n",
    "\n",
    "predicciones = knn_mm.predict(x_test)\n",
    "\n",
    "sb.heatmap(confusion_matrix(y_test,predicciones), annot = True, fmt = \"d\")\n",
    "plt.title('MATRIZ DE CONFUSIÓN')\n",
    "plt.xlabel('Predicción')\n",
    "plt.ylabel('Real')\n",
    "\n",
    "print(classification_report(y_test,predicciones,target_names=clasificadores))"
   ]
  },
  {
   "cell_type": "code",
   "execution_count": null,
   "id": "7925ad1c-b3d3-423c-aa07-b6289046ab50",
   "metadata": {},
   "outputs": [],
   "source": [
    "# Conjunto de entrada sin nombres de columna: funciona, pero puede lanzar advertencia\n",
    "print(knn_mm.predict([[9, 0, 1, 1, 0, 0, 0, 0, 1.50, 12.5, 1.30]]))\n",
    "print(knn_mm.predict_proba([[9, 0, 1, 1, 0, 0, 0, 0, 1.50, 12.5, 1.30]]))"
   ]
  },
  {
   "cell_type": "code",
   "execution_count": null,
   "id": "4f102eab-2cbd-44c5-8ff3-1790cbb17f0c",
   "metadata": {},
   "outputs": [],
   "source": [
    "print(knn_mm.predict(pd.DataFrame([[15, 0, 0, 0, 0, 0, 0, 0, 0.02,2, 0.20]], columns=Xb.columns)))\n",
    "print(knn_mm.predict_proba(pd.DataFrame([[15, 0, 0, 0, 0, 0, 0, 0, 0.02, 2, 0.20]], columns=Xb.columns)))"
   ]
  }
 ],
 "metadata": {
  "kernelspec": {
   "display_name": "Python [conda env:base] *",
   "language": "python",
   "name": "conda-base-py"
  },
  "language_info": {
   "codemirror_mode": {
    "name": "ipython",
    "version": 3
   },
   "file_extension": ".py",
   "mimetype": "text/x-python",
   "name": "python",
   "nbconvert_exporter": "python",
   "pygments_lexer": "ipython3",
   "version": "3.12.7"
  }
 },
 "nbformat": 4,
 "nbformat_minor": 5
}
